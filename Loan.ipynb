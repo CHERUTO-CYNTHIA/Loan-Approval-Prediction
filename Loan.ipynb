{
 "cells": [
  {
   "cell_type": "markdown",
   "id": "dfa4fd63",
   "metadata": {},
   "source": [
    "## 1  Introduction ##\n",
    "This document presents a machine learning analysis for loan approval prediction , including data loading , data preprocessing, model selection, model training, model evaluation using multiple algorithms. The goal is to predict whether a loan will be approved or not based on various features. The code is implemented in Python using libraries such as pandas, scikit learn and others"
   ]
  },
  {
   "cell_type": "markdown",
   "id": "5de9115a",
   "metadata": {},
   "source": [
    "##  2  Code and Analysis  ##"
   ]
  },
  {
   "cell_type": "markdown",
   "id": "643221c2",
   "metadata": {},
   "source": [
    "##  2.1  Importing Libraries  ##"
   ]
  },
  {
   "cell_type": "code",
   "execution_count": 2,
   "id": "78798fe2",
   "metadata": {},
   "outputs": [],
   "source": [
    "import numpy as np \n",
    "import pandas as pd\n",
    "import matplotlib.pyplot as plt\n",
    "import seaborn as sns\n",
    "import warnings"
   ]
  },
  {
   "cell_type": "markdown",
   "id": "31d69310",
   "metadata": {},
   "source": [
    "##  2.2  Loading Data  ##\n",
    "Loading the data from a CSV file."
   ]
  },
  {
   "cell_type": "code",
   "execution_count": 3,
   "id": "a68a8ad5",
   "metadata": {},
   "outputs": [],
   "source": [
    "df=pd.read_csv('loan_approval_dataset.csv')"
   ]
  },
  {
   "cell_type": "markdown",
   "id": "651490cb",
   "metadata": {},
   "source": [
    "##  2.3 Data Overview ##\n",
    "Displaying the first five rows of the dataset"
   ]
  },
  {
   "cell_type": "code",
   "execution_count": 4,
   "id": "117ea94c",
   "metadata": {},
   "outputs": [
    {
     "data": {
      "application/vnd.microsoft.datawrangler.viewer.v0+json": {
       "columns": [
        {
         "name": "index",
         "rawType": "int64",
         "type": "integer"
        },
        {
         "name": "loan_id",
         "rawType": "int64",
         "type": "integer"
        },
        {
         "name": " no_of_dependents",
         "rawType": "int64",
         "type": "integer"
        },
        {
         "name": " education",
         "rawType": "object",
         "type": "string"
        },
        {
         "name": " self_employed",
         "rawType": "object",
         "type": "string"
        },
        {
         "name": " income_annum",
         "rawType": "int64",
         "type": "integer"
        },
        {
         "name": " loan_amount",
         "rawType": "int64",
         "type": "integer"
        },
        {
         "name": " loan_term",
         "rawType": "int64",
         "type": "integer"
        },
        {
         "name": " cibil_score",
         "rawType": "int64",
         "type": "integer"
        },
        {
         "name": " residential_assets_value",
         "rawType": "int64",
         "type": "integer"
        },
        {
         "name": " commercial_assets_value",
         "rawType": "int64",
         "type": "integer"
        },
        {
         "name": " luxury_assets_value",
         "rawType": "int64",
         "type": "integer"
        },
        {
         "name": " bank_asset_value",
         "rawType": "int64",
         "type": "integer"
        },
        {
         "name": " loan_status",
         "rawType": "object",
         "type": "string"
        }
       ],
       "ref": "bcea485f-3c6e-49e3-b185-b3ec36fb106a",
       "rows": [
        [
         "0",
         "1",
         "2",
         " Graduate",
         " No",
         "9600000",
         "29900000",
         "12",
         "778",
         "2400000",
         "17600000",
         "22700000",
         "8000000",
         " Approved"
        ],
        [
         "1",
         "2",
         "0",
         " Not Graduate",
         " Yes",
         "4100000",
         "12200000",
         "8",
         "417",
         "2700000",
         "2200000",
         "8800000",
         "3300000",
         " Rejected"
        ],
        [
         "2",
         "3",
         "3",
         " Graduate",
         " No",
         "9100000",
         "29700000",
         "20",
         "506",
         "7100000",
         "4500000",
         "33300000",
         "12800000",
         " Rejected"
        ],
        [
         "3",
         "4",
         "3",
         " Graduate",
         " No",
         "8200000",
         "30700000",
         "8",
         "467",
         "18200000",
         "3300000",
         "23300000",
         "7900000",
         " Rejected"
        ],
        [
         "4",
         "5",
         "5",
         " Not Graduate",
         " Yes",
         "9800000",
         "24200000",
         "20",
         "382",
         "12400000",
         "8200000",
         "29400000",
         "5000000",
         " Rejected"
        ]
       ],
       "shape": {
        "columns": 13,
        "rows": 5
       }
      },
      "text/html": [
       "<div>\n",
       "<style scoped>\n",
       "    .dataframe tbody tr th:only-of-type {\n",
       "        vertical-align: middle;\n",
       "    }\n",
       "\n",
       "    .dataframe tbody tr th {\n",
       "        vertical-align: top;\n",
       "    }\n",
       "\n",
       "    .dataframe thead th {\n",
       "        text-align: right;\n",
       "    }\n",
       "</style>\n",
       "<table border=\"1\" class=\"dataframe\">\n",
       "  <thead>\n",
       "    <tr style=\"text-align: right;\">\n",
       "      <th></th>\n",
       "      <th>loan_id</th>\n",
       "      <th>no_of_dependents</th>\n",
       "      <th>education</th>\n",
       "      <th>self_employed</th>\n",
       "      <th>income_annum</th>\n",
       "      <th>loan_amount</th>\n",
       "      <th>loan_term</th>\n",
       "      <th>cibil_score</th>\n",
       "      <th>residential_assets_value</th>\n",
       "      <th>commercial_assets_value</th>\n",
       "      <th>luxury_assets_value</th>\n",
       "      <th>bank_asset_value</th>\n",
       "      <th>loan_status</th>\n",
       "    </tr>\n",
       "  </thead>\n",
       "  <tbody>\n",
       "    <tr>\n",
       "      <th>0</th>\n",
       "      <td>1</td>\n",
       "      <td>2</td>\n",
       "      <td>Graduate</td>\n",
       "      <td>No</td>\n",
       "      <td>9600000</td>\n",
       "      <td>29900000</td>\n",
       "      <td>12</td>\n",
       "      <td>778</td>\n",
       "      <td>2400000</td>\n",
       "      <td>17600000</td>\n",
       "      <td>22700000</td>\n",
       "      <td>8000000</td>\n",
       "      <td>Approved</td>\n",
       "    </tr>\n",
       "    <tr>\n",
       "      <th>1</th>\n",
       "      <td>2</td>\n",
       "      <td>0</td>\n",
       "      <td>Not Graduate</td>\n",
       "      <td>Yes</td>\n",
       "      <td>4100000</td>\n",
       "      <td>12200000</td>\n",
       "      <td>8</td>\n",
       "      <td>417</td>\n",
       "      <td>2700000</td>\n",
       "      <td>2200000</td>\n",
       "      <td>8800000</td>\n",
       "      <td>3300000</td>\n",
       "      <td>Rejected</td>\n",
       "    </tr>\n",
       "    <tr>\n",
       "      <th>2</th>\n",
       "      <td>3</td>\n",
       "      <td>3</td>\n",
       "      <td>Graduate</td>\n",
       "      <td>No</td>\n",
       "      <td>9100000</td>\n",
       "      <td>29700000</td>\n",
       "      <td>20</td>\n",
       "      <td>506</td>\n",
       "      <td>7100000</td>\n",
       "      <td>4500000</td>\n",
       "      <td>33300000</td>\n",
       "      <td>12800000</td>\n",
       "      <td>Rejected</td>\n",
       "    </tr>\n",
       "    <tr>\n",
       "      <th>3</th>\n",
       "      <td>4</td>\n",
       "      <td>3</td>\n",
       "      <td>Graduate</td>\n",
       "      <td>No</td>\n",
       "      <td>8200000</td>\n",
       "      <td>30700000</td>\n",
       "      <td>8</td>\n",
       "      <td>467</td>\n",
       "      <td>18200000</td>\n",
       "      <td>3300000</td>\n",
       "      <td>23300000</td>\n",
       "      <td>7900000</td>\n",
       "      <td>Rejected</td>\n",
       "    </tr>\n",
       "    <tr>\n",
       "      <th>4</th>\n",
       "      <td>5</td>\n",
       "      <td>5</td>\n",
       "      <td>Not Graduate</td>\n",
       "      <td>Yes</td>\n",
       "      <td>9800000</td>\n",
       "      <td>24200000</td>\n",
       "      <td>20</td>\n",
       "      <td>382</td>\n",
       "      <td>12400000</td>\n",
       "      <td>8200000</td>\n",
       "      <td>29400000</td>\n",
       "      <td>5000000</td>\n",
       "      <td>Rejected</td>\n",
       "    </tr>\n",
       "  </tbody>\n",
       "</table>\n",
       "</div>"
      ],
      "text/plain": [
       "   loan_id   no_of_dependents      education  self_employed   income_annum  \\\n",
       "0        1                  2       Graduate             No        9600000   \n",
       "1        2                  0   Not Graduate            Yes        4100000   \n",
       "2        3                  3       Graduate             No        9100000   \n",
       "3        4                  3       Graduate             No        8200000   \n",
       "4        5                  5   Not Graduate            Yes        9800000   \n",
       "\n",
       "    loan_amount   loan_term   cibil_score   residential_assets_value  \\\n",
       "0      29900000          12           778                    2400000   \n",
       "1      12200000           8           417                    2700000   \n",
       "2      29700000          20           506                    7100000   \n",
       "3      30700000           8           467                   18200000   \n",
       "4      24200000          20           382                   12400000   \n",
       "\n",
       "    commercial_assets_value   luxury_assets_value   bank_asset_value  \\\n",
       "0                  17600000              22700000            8000000   \n",
       "1                   2200000               8800000            3300000   \n",
       "2                   4500000              33300000           12800000   \n",
       "3                   3300000              23300000            7900000   \n",
       "4                   8200000              29400000            5000000   \n",
       "\n",
       "   loan_status  \n",
       "0     Approved  \n",
       "1     Rejected  \n",
       "2     Rejected  \n",
       "3     Rejected  \n",
       "4     Rejected  "
      ]
     },
     "execution_count": 4,
     "metadata": {},
     "output_type": "execute_result"
    }
   ],
   "source": [
    "df.head(5)"
   ]
  },
  {
   "cell_type": "markdown",
   "id": "84ef07a8",
   "metadata": {},
   "source": [
    "## 2.4   Data Shape  ##\n"
   ]
  },
  {
   "cell_type": "code",
   "execution_count": 6,
   "id": "1f7a9ddf",
   "metadata": {},
   "outputs": [
    {
     "data": {
      "text/plain": [
       "(4269, 13)"
      ]
     },
     "execution_count": 6,
     "metadata": {},
     "output_type": "execute_result"
    }
   ],
   "source": [
    "df.shape"
   ]
  },
  {
   "cell_type": "markdown",
   "id": "900d466c",
   "metadata": {},
   "source": [
    "##  2.5  Data Types ##"
   ]
  },
  {
   "cell_type": "code",
   "execution_count": 7,
   "id": "6a167861",
   "metadata": {},
   "outputs": [
    {
     "data": {
      "application/vnd.microsoft.datawrangler.viewer.v0+json": {
       "columns": [
        {
         "name": "index",
         "rawType": "object",
         "type": "string"
        },
        {
         "name": "0",
         "rawType": "object",
         "type": "string"
        }
       ],
       "ref": "cfe11ac9-f96b-40e8-9e05-cf1740ea4a6e",
       "rows": [
        [
         "loan_id",
         "int64"
        ],
        [
         " no_of_dependents",
         "int64"
        ],
        [
         " education",
         "object"
        ],
        [
         " self_employed",
         "object"
        ],
        [
         " income_annum",
         "int64"
        ],
        [
         " loan_amount",
         "int64"
        ],
        [
         " loan_term",
         "int64"
        ],
        [
         " cibil_score",
         "int64"
        ],
        [
         " residential_assets_value",
         "int64"
        ],
        [
         " commercial_assets_value",
         "int64"
        ],
        [
         " luxury_assets_value",
         "int64"
        ],
        [
         " bank_asset_value",
         "int64"
        ],
        [
         " loan_status",
         "object"
        ]
       ],
       "shape": {
        "columns": 1,
        "rows": 13
       }
      },
      "text/plain": [
       "loan_id                       int64\n",
       " no_of_dependents             int64\n",
       " education                   object\n",
       " self_employed               object\n",
       " income_annum                 int64\n",
       " loan_amount                  int64\n",
       " loan_term                    int64\n",
       " cibil_score                  int64\n",
       " residential_assets_value     int64\n",
       " commercial_assets_value      int64\n",
       " luxury_assets_value          int64\n",
       " bank_asset_value             int64\n",
       " loan_status                 object\n",
       "dtype: object"
      ]
     },
     "execution_count": 7,
     "metadata": {},
     "output_type": "execute_result"
    }
   ],
   "source": [
    "df.dtypes"
   ]
  },
  {
   "cell_type": "markdown",
   "id": "40ba76d7",
   "metadata": {},
   "source": [
    "##  2.6  Data Information ##"
   ]
  },
  {
   "cell_type": "code",
   "execution_count": 8,
   "id": "b8c518ec",
   "metadata": {},
   "outputs": [
    {
     "name": "stdout",
     "output_type": "stream",
     "text": [
      "<class 'pandas.core.frame.DataFrame'>\n",
      "RangeIndex: 4269 entries, 0 to 4268\n",
      "Data columns (total 13 columns):\n",
      " #   Column                     Non-Null Count  Dtype \n",
      "---  ------                     --------------  ----- \n",
      " 0   loan_id                    4269 non-null   int64 \n",
      " 1    no_of_dependents          4269 non-null   int64 \n",
      " 2    education                 4269 non-null   object\n",
      " 3    self_employed             4269 non-null   object\n",
      " 4    income_annum              4269 non-null   int64 \n",
      " 5    loan_amount               4269 non-null   int64 \n",
      " 6    loan_term                 4269 non-null   int64 \n",
      " 7    cibil_score               4269 non-null   int64 \n",
      " 8    residential_assets_value  4269 non-null   int64 \n",
      " 9    commercial_assets_value   4269 non-null   int64 \n",
      " 10   luxury_assets_value       4269 non-null   int64 \n",
      " 11   bank_asset_value          4269 non-null   int64 \n",
      " 12   loan_status               4269 non-null   object\n",
      "dtypes: int64(10), object(3)\n",
      "memory usage: 433.7+ KB\n"
     ]
    }
   ],
   "source": [
    "df.info()"
   ]
  },
  {
   "cell_type": "markdown",
   "id": "e9936f60",
   "metadata": {},
   "source": [
    "##  2.7  Missing values ##"
   ]
  },
  {
   "cell_type": "code",
   "execution_count": 9,
   "id": "86cea293",
   "metadata": {},
   "outputs": [
    {
     "name": "stdout",
     "output_type": "stream",
     "text": [
      "loan_id                      0\n",
      " no_of_dependents            0\n",
      " education                   0\n",
      " self_employed               0\n",
      " income_annum                0\n",
      " loan_amount                 0\n",
      " loan_term                   0\n",
      " cibil_score                 0\n",
      " residential_assets_value    0\n",
      " commercial_assets_value     0\n",
      " luxury_assets_value         0\n",
      " bank_asset_value            0\n",
      " loan_status                 0\n",
      "dtype: int64\n"
     ]
    }
   ],
   "source": [
    "print(df.isnull().sum())"
   ]
  },
  {
   "cell_type": "markdown",
   "id": "f6afa4ee",
   "metadata": {},
   "source": [
    "## 2.8  Model Training ##\n",
    "Training multiple learning machine learning models."
   ]
  },
  {
   "cell_type": "markdown",
   "id": "ca3038d7",
   "metadata": {},
   "source": [
    "##  2.8.1 Support Vector Machine (SVM) ##"
   ]
  },
  {
   "cell_type": "code",
   "execution_count": 11,
   "id": "142a665f",
   "metadata": {},
   "outputs": [
    {
     "name": "stdout",
     "output_type": "stream",
     "text": [
      "Accuracy: 0.9777777777777777\n"
     ]
    },
    {
     "name": "stderr",
     "output_type": "stream",
     "text": [
      "<frozen importlib._bootstrap>:219: RuntimeWarning: numpy.ufunc size changed, may indicate binary incompatibility. Expected 192 from C header, got 216 from PyObject\n"
     ]
    }
   ],
   "source": [
    "# 1. Import libraries\n",
    "import numpy as np\n",
    "import pandas as pd\n",
    "from sklearn.model_selection import train_test_split\n",
    "from sklearn.datasets import load_iris\n",
    "from sklearn.svm import SVC\n",
    "from sklearn.metrics import accuracy_score\n",
    "\n",
    "# 2. Load dataset\n",
    "data = load_iris()\n",
    "X = data.data\n",
    "y = data.target\n",
    "\n",
    "# 3. Split data into training and testing sets\n",
    "x_train, x_test, y_train, y_test = train_test_split(X, y, test_size=0.3, random_state=0)\n",
    "\n",
    "# 4. Define the SVM model\n",
    "SVM = SVC(kernel='rbf', random_state=0)\n",
    "\n",
    "# 5. Train the model\n",
    "SVM.fit(x_train, y_train)\n",
    "\n",
    "# 6. Make predictions\n",
    "y_pred = SVM.predict(x_test)\n",
    "\n",
    "# 7. Evaluate the model\n",
    "print(\"Accuracy:\", accuracy_score(y_test, y_pred))\n"
   ]
  },
  {
   "cell_type": "markdown",
   "id": "37842e6f",
   "metadata": {},
   "source": [
    "##  2.8.2  Decision Tree Classifier ##"
   ]
  },
  {
   "cell_type": "code",
   "execution_count": 12,
   "id": "b4affccc",
   "metadata": {},
   "outputs": [
    {
     "data": {
      "text/plain": [
       "DecisionTreeClassifier(criterion='entropy', random_state=0)"
      ]
     },
     "execution_count": 12,
     "metadata": {},
     "output_type": "execute_result"
    }
   ],
   "source": [
    "from sklearn.tree import DecisionTreeClassifier\n",
    "DCT= DecisionTreeClassifier(criterion='entropy', random_state=0)\n",
    "DCT.fit(x_train, y_train)"
   ]
  },
  {
   "cell_type": "markdown",
   "id": "7808be82",
   "metadata": {},
   "source": [
    "##  2.8.3 Logistic Regression ##"
   ]
  },
  {
   "cell_type": "code",
   "execution_count": 13,
   "id": "418f3be3",
   "metadata": {},
   "outputs": [
    {
     "data": {
      "text/plain": [
       "LogisticRegression(random_state=0)"
      ]
     },
     "execution_count": 13,
     "metadata": {},
     "output_type": "execute_result"
    }
   ],
   "source": [
    "from sklearn.linear_model import LogisticRegression\n",
    "LR=LogisticRegression(random_state=0)\n",
    "LR.fit(x_train, y_train)\n"
   ]
  },
  {
   "cell_type": "markdown",
   "id": "6f42c2e6",
   "metadata": {},
   "source": [
    "##  2.8.4  K_Nearest Neighbours (KNN)\n"
   ]
  },
  {
   "cell_type": "code",
   "execution_count": 16,
   "id": "d5462f68",
   "metadata": {},
   "outputs": [
    {
     "data": {
      "text/plain": [
       "KNeighborsClassifier(n_neighbors=3)"
      ]
     },
     "execution_count": 16,
     "metadata": {},
     "output_type": "execute_result"
    }
   ],
   "source": [
    "from sklearn.neighbors import KNeighborsClassifier\n",
    "KNN=KNeighborsClassifier(n_neighbors=3)\n",
    "KNN.fit(x_train, y_train)"
   ]
  },
  {
   "cell_type": "markdown",
   "id": "6422bca5",
   "metadata": {},
   "source": [
    "##  2.9 Predictions ##\n",
    "Making predictions on the test set."
   ]
  },
  {
   "cell_type": "code",
   "execution_count": 18,
   "id": "c43a975a",
   "metadata": {},
   "outputs": [],
   "source": [
    "y_pred_SVM=SVM.predict(x_test)\n",
    "y_pred_LR=LR.predict(x_test)\n",
    "y_pred_DCT=DCT.predict(x_test)\n",
    "y_pred_KNN= KNN.predict(x_test)"
   ]
  },
  {
   "cell_type": "markdown",
   "id": "2437adf2",
   "metadata": {},
   "source": [
    "##  Evaluation ##\n",
    "Evaluating model performance using accuracy scores."
   ]
  },
  {
   "cell_type": "code",
   "execution_count": 24,
   "id": "5d9bf8ab",
   "metadata": {},
   "outputs": [
    {
     "name": "stdout",
     "output_type": "stream",
     "text": [
      "Accuracy Score for SVM: 0.9777777777777777\n",
      "Accuracy Score for Logistic Regression: 0.9777777777777777\n",
      "Accuracy Score for Decision Tree: 0.9777777777777777\n",
      "Accuracy Score for K-Nearest Neighbors: 0.9777777777777777\n"
     ]
    }
   ],
   "source": [
    "from sklearn.metrics import accuracy_score\n",
    "SVM_accuracy= accuracy_score(y_test, y_pred_SVM)\n",
    "LR_accuracy= accuracy_score(y_test, y_pred_LR)\n",
    "DCT_accuracy= accuracy_score(y_test, y_pred_DCT)\n",
    "KNN_accuracy= accuracy_score(y_test, y_pred_KNN)\n",
    "# Print the accuracy scores\n",
    "print(\"Accuracy Score for SVM:\", SVM_accuracy)\n",
    "print(\"Accuracy Score for Logistic Regression:\", LR_accuracy)\n",
    "print(\"Accuracy Score for Decision Tree:\", DCT_accuracy)\n",
    "print(\"Accuracy Score for K-Nearest Neighbors:\", KNN_accuracy)"
   ]
  },
  {
   "cell_type": "markdown",
   "id": "4feaa320",
   "metadata": {},
   "source": [
    "##  2.11 Confusion Matrices ##\n"
   ]
  },
  {
   "cell_type": "code",
   "execution_count": 25,
   "id": "871ca972",
   "metadata": {},
   "outputs": [
    {
     "name": "stdout",
     "output_type": "stream",
     "text": [
      "Confusion Matrix for SVM:\n",
      "[[16  0  0]\n",
      " [ 0 17  1]\n",
      " [ 0  0 11]]\n",
      "\n",
      "Confusion Matrix for Logistic Regression:\n",
      "[[16  0  0]\n",
      " [ 0 17  1]\n",
      " [ 0  0 11]]\n",
      "\n",
      "Confusion Matrix for Decision Tree:\n",
      "[[16  0  0]\n",
      " [ 0 17  1]\n",
      " [ 0  0 11]]\n",
      "\n",
      "Confusion Matrix for K-Nearest Neighbors:\n",
      "[[16  0  0]\n",
      " [ 0 17  1]\n",
      " [ 0  0 11]]\n"
     ]
    }
   ],
   "source": [
    "from sklearn.metrics import confusion_matrix\n",
    "SVM_CM= confusion_matrix(y_test, y_pred_SVM)\n",
    "LR_CM=confusion_matrix(y_test, y_pred_LR)\n",
    "DCT_CM= confusion_matrix(y_test, y_pred_DCT)\n",
    "KNN_CM= confusion_matrix(y_test, y_pred_KNN)\n",
    "# Print the confusion matrices\n",
    "print(\"Confusion Matrix for SVM:\")\n",
    "print(SVM_CM)\n",
    "print(\"\\nConfusion Matrix for Logistic Regression:\")\n",
    "print(LR_CM)\n",
    "print(\"\\nConfusion Matrix for Decision Tree:\")\n",
    "print(DCT_CM)\n",
    "print(\"\\nConfusion Matrix for K-Nearest Neighbors:\")\n",
    "print(KNN_CM)"
   ]
  }
 ],
 "metadata": {
  "kernelspec": {
   "display_name": "learn-env",
   "language": "python",
   "name": "python3"
  },
  "language_info": {
   "codemirror_mode": {
    "name": "ipython",
    "version": 3
   },
   "file_extension": ".py",
   "mimetype": "text/x-python",
   "name": "python",
   "nbconvert_exporter": "python",
   "pygments_lexer": "ipython3",
   "version": "3.8.5"
  }
 },
 "nbformat": 4,
 "nbformat_minor": 5
}
